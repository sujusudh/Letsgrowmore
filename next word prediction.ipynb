{
 "cells": [
  {
   "cell_type": "code",
   "execution_count": null,
   "metadata": {},
   "outputs": [],
   "source": [
    "import keras\n",
    "from numpy import array\n",
    "import pandas as pd\n",
    "from keras.preprocessing.text import Tokenizer\n",
    "#from keras.utils import to_categorical\n",
    "from tensorflow.keras.utils import to_categorical\n",
    "from keras.models import Sequential\n",
    "from keras.layers import Dense\n",
    "from keras.layers import LSTM\n",
    "from keras.layers import Embedding"
   ]
  },
  {
   "cell_type": "code",
   "execution_count": null,
   "metadata": {},
   "outputs": [],
   "source": [
    "data = pd.read_csv('1661-0.txt', sep=\"\\t\")\n",
    "#txt=read_\n",
    "print(data)"
   ]
  },
  {
   "cell_type": "code",
   "execution_count": null,
   "metadata": {},
   "outputs": [],
   "source": [
    "tokenizer=Tokenizer()\n",
    "tokenizer.fit_on_texts(data)\n",
    "encoded_data= tokenizer.texts_to_sequences(data)[0]\n",
    "encoded_data\n"
   ]
  },
  {
   "cell_type": "code",
   "execution_count": null,
   "metadata": {},
   "outputs": [],
   "source": [
    "size=len(tokenizer.word_index)+1\n",
    "print(size)"
   ]
  },
  {
   "cell_type": "code",
   "execution_count": null,
   "metadata": {},
   "outputs": [],
   "source": [
    "sequences=list()\n",
    "for j in range(1, len(encoded_data)):\n",
    "    seq=encoded_data[j-1:j+1]\n",
    "    sequences.append(seq)\n",
    "print(len(sequences))\n"
   ]
  },
  {
   "cell_type": "markdown",
   "metadata": {},
   "source": [
    "input and an output word ,i.e first word and predicted word are indexed as follows"
   ]
  },
  {
   "cell_type": "code",
   "execution_count": 105,
   "metadata": {},
   "outputs": [
    {
     "data": {
      "text/plain": [
       "[[1, 2],\n",
       " [2, 3],\n",
       " [3, 4],\n",
       " [4, 5],\n",
       " [5, 6],\n",
       " [6, 7],\n",
       " [7, 8],\n",
       " [8, 9],\n",
       " [9, 10],\n",
       " [10, 11]]"
      ]
     },
     "execution_count": 105,
     "metadata": {},
     "output_type": "execute_result"
    }
   ],
   "source": [
    "sequences"
   ]
  },
  {
   "cell_type": "markdown",
   "metadata": {},
   "source": [
    "Split the sequence"
   ]
  },
  {
   "cell_type": "code",
   "execution_count": 106,
   "metadata": {},
   "outputs": [],
   "source": [
    "sequences=array(sequences)\n",
    "X,y=sequences[:,0],sequences[:,1]"
   ]
  },
  {
   "cell_type": "code",
   "execution_count": 107,
   "metadata": {},
   "outputs": [
    {
     "data": {
      "text/plain": [
       "array([1, 2, 3, 4, 5, 6])"
      ]
     },
     "execution_count": 107,
     "metadata": {},
     "output_type": "execute_result"
    }
   ],
   "source": [
    "X[:6]"
   ]
  },
  {
   "cell_type": "code",
   "execution_count": 108,
   "metadata": {},
   "outputs": [
    {
     "data": {
      "text/plain": [
       "array([2, 3, 4, 5, 6, 7])"
      ]
     },
     "execution_count": 108,
     "metadata": {},
     "output_type": "execute_result"
    }
   ],
   "source": [
    "y[:6]"
   ]
  },
  {
   "cell_type": "markdown",
   "metadata": {},
   "source": [
    "One hot encoding\n"
   ]
  },
  {
   "cell_type": "code",
   "execution_count": 109,
   "metadata": {},
   "outputs": [
    {
     "data": {
      "text/plain": [
       "array([[0., 0., 1., 0., 0., 0., 0., 0., 0., 0., 0., 0.],\n",
       "       [0., 0., 0., 1., 0., 0., 0., 0., 0., 0., 0., 0.],\n",
       "       [0., 0., 0., 0., 1., 0., 0., 0., 0., 0., 0., 0.],\n",
       "       [0., 0., 0., 0., 0., 1., 0., 0., 0., 0., 0., 0.],\n",
       "       [0., 0., 0., 0., 0., 0., 1., 0., 0., 0., 0., 0.],\n",
       "       [0., 0., 0., 0., 0., 0., 0., 1., 0., 0., 0., 0.]], dtype=float32)"
      ]
     },
     "execution_count": 109,
     "metadata": {},
     "output_type": "execute_result"
    }
   ],
   "source": [
    "y=to_categorical(y,num_classes=size)\n",
    "y[:6]"
   ]
  },
  {
   "cell_type": "code",
   "execution_count": 173,
   "metadata": {},
   "outputs": [
    {
     "name": "stdout",
     "output_type": "stream",
     "text": [
      "Model: \"sequential_12\"\n",
      "_________________________________________________________________\n",
      "Layer (type)                 Output Shape              Param #   \n",
      "=================================================================\n",
      "embedding_14 (Embedding)     (None, 1, 64)             163648    \n",
      "_________________________________________________________________\n",
      "lstm_10 (LSTM)               (None, 50)                23000     \n",
      "_________________________________________________________________\n",
      "dense_9 (Dense)              (None, 12)                612       \n",
      "_________________________________________________________________\n",
      "dense_10 (Dense)             (None, 12)                156       \n",
      "=================================================================\n",
      "Total params: 187,416\n",
      "Trainable params: 187,416\n",
      "Non-trainable params: 0\n",
      "_________________________________________________________________\n",
      "None\n"
     ]
    }
   ],
   "source": [
    "from tensorflow.keras.layers import *\n",
    "from tensorflow.keras.models import *\n",
    "\n",
    "\n",
    "model= Sequential()\n",
    "\n",
    "\n",
    "\n",
    "\n",
    "model.add(Embedding(2557, 64, input_length=1, embeddings_initializer='glorot_uniform'))\n",
    "#model.add(Reshape((64,)))\n",
    "#model.add(Reshape((64,), input_shape=(94556, 1)))\n",
    "\n",
    "model.compile(optimizer='adam', loss='categorical_crossentropy', metrics=['accuracy'])\n",
    "#model.add(Embedding(size,10,input_length=1))\n",
    "model.add(LSTM(50))\n",
    "model.add(Dense(size,activation=\"softmax\"))\n",
    "model.add(Dense(12, input_dim=7, activation='relu'))\n",
    "print(model.summary())\n"
   ]
  },
  {
   "cell_type": "code",
   "execution_count": 174,
   "metadata": {},
   "outputs": [],
   "source": [
    "model.compile(loss=\"categorical_crossentropy\",optimizer=\"adam\",metrics=[\"accuracy\"])\n",
    "#comile the network"
   ]
  },
  {
   "cell_type": "code",
   "execution_count": 175,
   "metadata": {},
   "outputs": [
    {
     "name": "stdout",
     "output_type": "stream",
     "text": [
      "Epoch 1/50\n",
      "1/1 [==============================] - 5s 5s/step - loss: 10.4216 - accuracy: 0.1000\n",
      "Epoch 2/50\n",
      "1/1 [==============================] - 0s 13ms/step - loss: 10.4029 - accuracy: 0.1000\n",
      "Epoch 3/50\n",
      "1/1 [==============================] - 0s 17ms/step - loss: 10.3862 - accuracy: 0.1000\n",
      "Epoch 4/50\n",
      "1/1 [==============================] - 0s 21ms/step - loss: 10.3712 - accuracy: 0.1000\n",
      "Epoch 5/50\n",
      "1/1 [==============================] - 0s 7ms/step - loss: 10.3575 - accuracy: 0.1000\n",
      "Epoch 6/50\n",
      "1/1 [==============================] - 0s 22ms/step - loss: 10.3451 - accuracy: 0.1000\n",
      "Epoch 7/50\n",
      "1/1 [==============================] - 0s 14ms/step - loss: 10.3338 - accuracy: 0.1000\n",
      "Epoch 8/50\n",
      "1/1 [==============================] - 0s 16ms/step - loss: 10.3233 - accuracy: 0.1000\n",
      "Epoch 9/50\n",
      "1/1 [==============================] - ETA: 0s - loss: 10.3136 - accuracy: 0.100 - 0s 31ms/step - loss: 10.3136 - accuracy: 0.1000\n",
      "Epoch 10/50\n",
      "1/1 [==============================] - 0s 16ms/step - loss: 10.3045 - accuracy: 0.1000\n",
      "Epoch 11/50\n",
      "1/1 [==============================] - 0s 18ms/step - loss: 10.2960 - accuracy: 0.1000\n",
      "Epoch 12/50\n",
      "1/1 [==============================] - 0s 26ms/step - loss: 10.2880 - accuracy: 0.1000\n",
      "Epoch 13/50\n",
      "1/1 [==============================] - 0s 34ms/step - loss: 10.2804 - accuracy: 0.1000\n",
      "Epoch 14/50\n",
      "1/1 [==============================] - 0s 14ms/step - loss: 10.2732 - accuracy: 0.1000\n",
      "Epoch 15/50\n",
      "1/1 [==============================] - 0s 23ms/step - loss: 10.2662 - accuracy: 0.1000\n",
      "Epoch 16/50\n",
      "1/1 [==============================] - 0s 30ms/step - loss: 10.2595 - accuracy: 0.1000\n",
      "Epoch 17/50\n",
      "1/1 [==============================] - 0s 12ms/step - loss: 10.2529 - accuracy: 0.1000\n",
      "Epoch 18/50\n",
      "1/1 [==============================] - 0s 20ms/step - loss: 10.2465 - accuracy: 0.2000\n",
      "Epoch 19/50\n",
      "1/1 [==============================] - 0s 36ms/step - loss: 10.2402 - accuracy: 0.2000\n",
      "Epoch 20/50\n",
      "1/1 [==============================] - 0s 19ms/step - loss: 10.2339 - accuracy: 0.2000\n",
      "Epoch 21/50\n",
      "1/1 [==============================] - 0s 13ms/step - loss: 10.2276 - accuracy: 0.3000\n",
      "Epoch 22/50\n",
      "1/1 [==============================] - 0s 25ms/step - loss: 10.2213 - accuracy: 0.4000\n",
      "Epoch 23/50\n",
      "1/1 [==============================] - 0s 17ms/step - loss: 10.2150 - accuracy: 0.4000\n",
      "Epoch 24/50\n",
      "1/1 [==============================] - 0s 23ms/step - loss: 10.2086 - accuracy: 0.4000\n",
      "Epoch 25/50\n",
      "1/1 [==============================] - 0s 36ms/step - loss: 10.2020 - accuracy: 0.4000\n",
      "Epoch 26/50\n",
      "1/1 [==============================] - 0s 19ms/step - loss: 10.1954 - accuracy: 0.4000\n",
      "Epoch 27/50\n",
      "1/1 [==============================] - 0s 37ms/step - loss: 10.1885 - accuracy: 0.4000\n",
      "Epoch 28/50\n",
      "1/1 [==============================] - 0s 45ms/step - loss: 10.1814 - accuracy: 0.4000\n",
      "Epoch 29/50\n",
      "1/1 [==============================] - 0s 18ms/step - loss: 10.1741 - accuracy: 0.4000\n",
      "Epoch 30/50\n",
      "1/1 [==============================] - 0s 15ms/step - loss: 10.1666 - accuracy: 0.3000\n",
      "Epoch 31/50\n",
      "1/1 [==============================] - 0s 20ms/step - loss: 10.1608 - accuracy: 0.3000\n",
      "Epoch 32/50\n",
      "1/1 [==============================] - 0s 18ms/step - loss: 10.1551 - accuracy: 0.3000\n",
      "Epoch 33/50\n",
      "1/1 [==============================] - 0s 13ms/step - loss: 10.1498 - accuracy: 0.2000\n",
      "Epoch 34/50\n",
      "1/1 [==============================] - 0s 22ms/step - loss: 10.1446 - accuracy: 0.2000\n",
      "Epoch 35/50\n",
      "1/1 [==============================] - 0s 27ms/step - loss: 10.1394 - accuracy: 0.2000\n",
      "Epoch 36/50\n",
      "1/1 [==============================] - 0s 24ms/step - loss: 10.1335 - accuracy: 0.2000\n",
      "Epoch 37/50\n",
      "1/1 [==============================] - 0s 24ms/step - loss: 10.1278 - accuracy: 0.2000\n",
      "Epoch 38/50\n",
      "1/1 [==============================] - 0s 16ms/step - loss: 10.1219 - accuracy: 0.2000\n",
      "Epoch 39/50\n",
      "1/1 [==============================] - 0s 14ms/step - loss: 10.1155 - accuracy: 0.2000\n",
      "Epoch 40/50\n",
      "1/1 [==============================] - 0s 13ms/step - loss: 10.1086 - accuracy: 0.2000\n",
      "Epoch 41/50\n",
      "1/1 [==============================] - 0s 44ms/step - loss: 10.1011 - accuracy: 0.2000\n",
      "Epoch 42/50\n",
      "1/1 [==============================] - 0s 15ms/step - loss: 10.0931 - accuracy: 0.2000\n",
      "Epoch 43/50\n",
      "1/1 [==============================] - 0s 21ms/step - loss: 10.0844 - accuracy: 0.2000\n",
      "Epoch 44/50\n",
      "1/1 [==============================] - 0s 33ms/step - loss: 10.0750 - accuracy: 0.2000\n",
      "Epoch 45/50\n",
      "1/1 [==============================] - 0s 22ms/step - loss: 10.0647 - accuracy: 0.2000\n",
      "Epoch 46/50\n",
      "1/1 [==============================] - 0s 31ms/step - loss: 10.0535 - accuracy: 0.2000\n",
      "Epoch 47/50\n",
      "1/1 [==============================] - 0s 9ms/step - loss: 10.0430 - accuracy: 0.2000\n",
      "Epoch 48/50\n",
      "1/1 [==============================] - 0s 16ms/step - loss: 10.0323 - accuracy: 0.2000\n",
      "Epoch 49/50\n",
      "1/1 [==============================] - 0s 26ms/step - loss: 10.0215 - accuracy: 0.2000\n",
      "Epoch 50/50\n",
      "1/1 [==============================] - 0s 13ms/step - loss: 10.0119 - accuracy: 0.2000\n"
     ]
    },
    {
     "data": {
      "text/plain": [
       "<keras.callbacks.History at 0x1c69062e1f0>"
      ]
     },
     "execution_count": 175,
     "metadata": {},
     "output_type": "execute_result"
    }
   ],
   "source": [
    "model.fit(X,y,epochs=50)\n",
    "#fit network"
   ]
  },
  {
   "cell_type": "code",
   "execution_count": null,
   "metadata": {},
   "outputs": [],
   "source": [
    "import numpy as np\n",
    "from tensorflow.keras.models import load_model\n",
    "\n",
    "def generate_seq(model,tokenizer, enter_text, n_pred):\n",
    "    in_text, result= enter_text, enter_text#\n",
    "    for _ in range(n_pred):\n",
    "        encoded= tokenizer.texts_to_sequences([in_text])\n",
    "        encoded= np.array(encoded)\n",
    "        \n",
    "        #guess=model.predict_classes(encoded)\n",
    "        #y_pred = model.predict(encoded)\n",
    "        #y_pred = np.round(y_pred).astype(int)\n",
    "        y_pred=np.argmax(model.predict(encoded))\n",
    "        #predict_x=model.predict(encoded)\n",
    "        #classes_x=np.argmax(predict_x,axis=1)\n",
    "        #predictions = model.predict(encoded, verbose=1)\n",
    "        out_word=\"\"\n",
    "        for word, index in tokenizer.word_index.items():\n",
    "            if index == y_pred:\n",
    "                out_word=word\n",
    "                break\n",
    "        #in_text, result= out_word,result+ \"\" +out_word\n",
    "        print(out_word)\n",
    "        return result\n"
   ]
  },
  {
   "cell_type": "code",
   "execution_count": null,
   "metadata": {},
   "outputs": [],
   "source": [
    "while(True):\n",
    "    \n",
    "    text = input(\"Enter your line: \")\n",
    "  \n",
    "    if text == \"0\":\n",
    "        print(\"Execution completed.....\")\n",
    "        break\n",
    "  \n",
    "    else:\n",
    "        try:\n",
    "            text = text.split(\" \")\n",
    "            text = text[-3:]\n",
    "            print(text)\n",
    "        \n",
    "            generate_seq(model, tokenizer, enter_text,n_pred)\n",
    "          \n",
    "        except Exception as e:\n",
    "            print(\"Error occurred: \",e)\n",
    "            continue"
   ]
  }
 ],
 "metadata": {
  "kernelspec": {
   "display_name": "Python 3",
   "language": "python",
   "name": "python3"
  },
  "language_info": {
   "codemirror_mode": {
    "name": "ipython",
    "version": 3
   },
   "file_extension": ".py",
   "mimetype": "text/x-python",
   "name": "python",
   "nbconvert_exporter": "python",
   "pygments_lexer": "ipython3",
   "version": "3.8.5"
  }
 },
 "nbformat": 4,
 "nbformat_minor": 4
}
